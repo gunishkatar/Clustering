{
 "cells": [
  {
   "cell_type": "markdown",
   "metadata": {},
   "source": [
    "## Importing Libraries"
   ]
  },
  {
   "cell_type": "code",
   "execution_count": 1,
   "metadata": {},
   "outputs": [],
   "source": [
    "import numpy as np\n",
    "from matplotlib import pyplot as plt\n",
    "import matplotlib.cm as colormap\n",
    "%matplotlib inline"
   ]
  },
  {
   "cell_type": "markdown",
   "metadata": {},
   "source": [
    "## Data Creation"
   ]
  },
  {
   "cell_type": "code",
   "execution_count": 6,
   "metadata": {},
   "outputs": [],
   "source": [
    "mean01 = np.array([0.1, 0.2])\n",
    "covar_01 = np.array([[1.1, 0.0],\n",
    "                  [0.0, 2.2]])\n",
    "\n",
    "mean02 = np.array([0., 15.])\n",
    "covar_02 = np.array([[2.2, 0.0],\n",
    "                 [0.0, 2.2]])\n",
    "\n",
    "mean03 = np.array([13.1, 10.2])\n",
    "covar_03 = np.array([[4.1, 0.0],\n",
    "                 [0.0, 4.2]])\n",
    "\n",
    "data01 = np.random.multivariate_normal(mean01, covar_01, 300)\n",
    "data02 = np.random.multivariate_normal(mean02, covar_02, 300)\n",
    "data03 = np.random.multivariate_normal(mean03, covar_03, 300)\n",
    "\n",
    "\n",
    "data_X = np.concatenate((data01, data02, data03), axis = 0)"
   ]
  },
  {
   "cell_type": "markdown",
   "metadata": {},
   "source": [
    "## Clustering of Data Points Using K-Means Algorithm"
   ]
  },
  {
   "cell_type": "code",
   "execution_count": 7,
   "metadata": {},
   "outputs": [],
   "source": [
    "def k_means(data_pts, K_clustering_centers=3, num_iteration = 5):\n",
    "    \n",
    "    # Implementing Eucledian Distance Function Inside the K_Means Function\n",
    "    def distance(x1, x2):\n",
    "        return np.sqrt(np.sum((x1-x2)**2))\n",
    "    # New Centers\n",
    "    New_centers = []\n",
    "    \n",
    "    # Number of Clusters\n",
    "    k = K_clustering_centers\n",
    "    # For Final Plotting Of Clusters\n",
    "    Dict_of_Points = {}\n",
    "    List_of_Points = []\n",
    "    for idd in range(k):\n",
    "        Dict_of_Points[idd] = {\n",
    "            'points' : List_of_Points\n",
    "    }\n",
    "    # Genrate Clusters Centers\n",
    "    clusters = {}\n",
    "    \n",
    "    # K Numbers of Colours will be generated using ColorMaps from Matplotlib Rather than Hardcoding It\n",
    "    colors = colormap.rainbow(np.linspace(0, 1, k))\n",
    "    \n",
    "    for kx in range(k):\n",
    "        cluster_id = kx\n",
    "        points = []\n",
    "        dim = data_X.shape[1]\n",
    "        center = 10.0*(np.random.random((dim,))*2 - 1)\n",
    "        color = colors[kx]\n",
    "        clusters[cluster_id] = {\n",
    "            'points': points,\n",
    "            'center': center,\n",
    "            'color': color\n",
    "        }\n",
    "    \n",
    "    for i in range(num_iteration):\n",
    "        # Allocate points to clusters\n",
    "        for ix in range(data_X.shape[0]):\n",
    "        # For each point, get distance with each cluster\n",
    "            dist = []\n",
    "            for kx in range(k):\n",
    "                d = distance(data_X[ix], clusters[kx]['center'])\n",
    "                dist.append(d)\n",
    "            # Get cluster id where current point belongs\n",
    "            c_id = np.argmin(dist)\n",
    "    \n",
    "            clusters[c_id]['points'].append(data_X[ix])\n",
    "    \n",
    "        for kx in range(k):\n",
    "            pts = np.asarray(clusters[kx]['points'])\n",
    "            if pts.shape[0] > 0:\n",
    "                # Compute new cluster center\n",
    "                new_center = pts.mean(axis=0)\n",
    "            else:\n",
    "                new_center = clusters[kx]['center']\n",
    "            clusters[kx]['points'] = pts\n",
    "            clusters[kx]['center'] = new_center\n",
    "            \n",
    "        for kx in range(k):\n",
    "            List_of_Points = clusters[kx]['points']\n",
    "            Dict_of_Points[kx] = List_of_Points\n",
    "            clusters[kx]['points'] = []\n",
    "        \n",
    "    for kx in range(k):\n",
    "        #print clusters[kx]['center']\n",
    "        New_centers.append(clusters[kx]['center'])\n",
    "    \n",
    "    \n",
    "    plt.figure(0)\n",
    "    \n",
    "    for kx in range(k):\n",
    "        cc = clusters[kx]['center']\n",
    "    \n",
    "        pts = Dict_of_Points[kx] #np.asarray(Dict_of_Points[kx]['points']) #clusters[kx]['points']\n",
    "        #print len(clusters[kx]['points'])\n",
    "        try:\n",
    "            plt.scatter(pts[:, 0], pts[:, 1], color=clusters[kx]['color'])\n",
    "        except:\n",
    "            pass\n",
    "    \n",
    "        plt.scatter(cc[0], cc[1], color='black', s=100, marker='*')\n",
    "        #clusters[kx]['points'] = []\n",
    "    plt.show()        \n",
    "     \n",
    "    return New_centers\n",
    "        "
   ]
  },
  {
   "cell_type": "code",
   "execution_count": 8,
   "metadata": {},
   "outputs": [
    {
     "data": {
      "image/png": "[encoded data removed]",
      "text/plain": [
       "<Figure size 432x288 with 1 Axes>"
      ]
     },
     "metadata": {},
     "output_type": "display_data"
    },
    {
     "data": {
      "text/plain": [
       "[array([-0.03825051, 14.91513187]),\n",
       " array([13.13339213, 10.31139304]),\n",
       " array([0.26689772, 1.40328855]),\n",
       " array([ 0.13684303, -0.94105671]),\n",
       " array([-6.2020146 , -8.98932345])]"
      ]
     },
     "execution_count": 8,
     "metadata": {},
     "output_type": "execute_result"
    }
   ],
   "source": [
    "k_means(data_pts=data_X, K_clustering_centers=5,num_iteration=10)"
   ]
  }
 ],
 "metadata": {
  "kernelspec": {
   "display_name": "Python 2",
   "language": "python",
   "name": "python2"
  },
  "language_info": {
   "codemirror_mode": {
    "name": "ipython",
    "version": 2
   },
   "file_extension": ".py",
   "mimetype": "text/x-python",
   "name": "python",
   "nbconvert_exporter": "python",
   "pygments_lexer": "ipython2",
   "version": "2.7.12"
  }
 },
 "nbformat": 4,
 "nbformat_minor": 2
}
